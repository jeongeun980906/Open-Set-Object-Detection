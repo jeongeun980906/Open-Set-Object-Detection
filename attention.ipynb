{
 "cells": [
  {
   "cell_type": "code",
   "execution_count": 1,
   "metadata": {},
   "outputs": [],
   "source": [
    "import torch\n",
    "import cv2\n",
    "import copy\n",
    "import random\n",
    "import colorsys\n",
    "import requests\n",
    "from io import BytesIO\n",
    "\n",
    "import matplotlib.pyplot as plt\n",
    "from  config.config import get_cfg\n",
    "\n",
    "from data.build import (\n",
    "    build_detection_test_loader,\n",
    "    build_detection_train_loader,\n",
    ")\n",
    "from data.mapper import DatasetMapper\n",
    "import data.transforms as T\n",
    "from data.phase_1 import load_voc_instances,VOC_CLASS_NAMES\n",
    "from data.utils import build_augmentation"
   ]
  },
  {
   "cell_type": "code",
   "execution_count": 2,
   "metadata": {},
   "outputs": [],
   "source": [
    "import skimage.io\n",
    "from skimage.measure import find_contours\n",
    "import matplotlib.pyplot as plt\n",
    "from matplotlib.patches import Polygon\n",
    "import torch\n",
    "import torch.nn as nn\n",
    "import torchvision\n",
    "from torchvision import transforms as pth_transforms\n",
    "import numpy as np\n",
    "from PIL import Image\n",
    "device = 'cuda:1'"
   ]
  },
  {
   "cell_type": "code",
   "execution_count": 14,
   "metadata": {},
   "outputs": [],
   "source": [
    "cfg = get_cfg()\n",
    "cfg.merge_from_file('./config_files/voc.yaml')\n",
    "\n",
    "DIR_NAME = '/data/private/OWOD/datasets/VOC2007'\n",
    "split = 'train'\n",
    "data = load_voc_instances(DIR_NAME,split,VOC_CLASS_NAMES,phase='t1',COCO_CLASS=False)\n",
    "mapper = DatasetMapper(is_train=True, augmentations=build_augmentation(cfg,True))\n",
    "data_loader = build_detection_train_loader(data,mapper=mapper,total_batch_size=1)\n",
    "VOC_CLASS_NAMES_NEW = (*VOC_CLASS_NAMES, 'unknown')\n",
    "loader = iter(data_loader)"
   ]
  },
  {
   "cell_type": "code",
   "execution_count": 34,
   "metadata": {},
   "outputs": [
    {
     "name": "stderr",
     "output_type": "stream",
     "text": [
      "Using cache found in /root/.cache/torch/hub/facebookresearch_dino_main\n"
     ]
    }
   ],
   "source": [
    "transform = pth_transforms.Compose([\n",
    "        pth_transforms.Resize(224),\n",
    "        pth_transforms.Normalize((0.485, 0.456, 0.406), (0.229, 0.224, 0.225)),\n",
    "    ])\n",
    "vit = torch.hub.load('facebookresearch/dino:main', 'dino_vits8').to(device)\n",
    "vit.eval()\n",
    "resize = pth_transforms.Resize(224)\n",
    "patch_size = 8\n"
   ]
  },
  {
   "cell_type": "code",
   "execution_count": 84,
   "metadata": {},
   "outputs": [],
   "source": [
    "batched_inputs = next(loader)\n",
    "gt_box = batched_inputs[0]['instances'].gt_boxes\n",
    "img = batched_inputs[0]['image']/255\n",
    "img = transform(img.unsqueeze(0))\n",
    "w, h = img.shape[1] - img.shape[1] % patch_size, img.shape[2] - img.shape[2] % patch_size\n",
    "w_featmap = img.shape[-2] // patch_size\n",
    "h_featmap = img.shape[-1] // patch_size\n",
    "\n",
    "attentions = vit.get_last_selfattention(img.to(device))\n",
    "\n",
    "nh = attentions.shape[1] # number of head\n",
    "\n",
    "# we keep only the output patch attention\n",
    "attentions = attentions[0, :, 0, 1:].reshape(nh, -1)\n",
    "\n",
    "\n",
    "attentions = attentions.reshape(nh, w_featmap, h_featmap)\n",
    "attentions = nn.functional.interpolate(attentions.unsqueeze(0), scale_factor=patch_size, mode=\"nearest\")[0]\n",
    "attentions = resize(attentions).detach().cpu().numpy()"
   ]
  },
  {
   "cell_type": "code",
   "execution_count": 85,
   "metadata": {},
   "outputs": [
    {
     "name": "stdout",
     "output_type": "stream",
     "text": [
      "(6, 224, 296)\n"
     ]
    }
   ],
   "source": [
    "src = copy.deepcopy(batched_inputs[0]['image'])\n",
    "src = resize(src).cpu().numpy()\n",
    "src = src.transpose(1,2,0)\n",
    "print(attentions.shape)\n",
    "plt.figure(figsize=(10,10))\n",
    "attn = np.mean(attentions,axis=0)\n",
    "plt.imshow(src)\n",
    "plt.imshow(attn,alpha=0.3,cmap='jet')\n",
    "plt.axis('off')\n",
    "plt.show()"
   ]
  },
  {
   "cell_type": "code",
   "execution_count": null,
   "metadata": {},
   "outputs": [],
   "source": []
  },
  {
   "cell_type": "code",
   "execution_count": null,
   "metadata": {},
   "outputs": [],
   "source": []
  }
 ],
 "metadata": {
  "kernelspec": {
   "display_name": "Python 3.7.7 64-bit ('conda': virtualenv)",
   "name": "python377jvsc74a57bd098b0a9b7b4eaaa670588a142fd0a9b87eaafe866f1db4228be72b4211d12040f"
  },
  "language_info": {
   "codemirror_mode": {
    "name": "ipython",
    "version": 3
   },
   "file_extension": ".py",
   "mimetype": "text/x-python",
   "name": "python",
   "nbconvert_exporter": "python",
   "pygments_lexer": "ipython3",
   "version": "3.7.7"
  },
  "orig_nbformat": 2
 },
 "nbformat": 4,
 "nbformat_minor": 2
}